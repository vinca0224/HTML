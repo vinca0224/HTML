{
 "cells": [
  {
   "cell_type": "markdown",
   "metadata": {},
   "source": [
    "## 태그 성질에 따른 분류\n",
    "### 1. 블록요소 태그 \n",
    "    - html, body, div, p, ul, ol, li, dl, dt, dd ...\n",
    "    - 기본 가로 공간의 크기가 부모태그와 동일하게 인식\n",
    "    - 연속해서 작성하면 세로 배열\n",
    "    - 공간값이 적용됨(w,h)\n",
    "### 2. 인라인 요소 태그\n",
    "    - a, span, strong, i, em ...\n",
    "    - 기본 가로 공간의 크기가 안쪽에 포함된 내용만큼만 인식(컨텐츠)\n",
    "    - 연속해서 작성하면 가로 배열\n",
    "### 3. 인라인 블록 요소 태그\n",
    "    - img, input, button ...\n",
    "    - 기본 가로 공간의 크기가 안쪽에 포함된 내용만큼만 인식\n",
    "    - 연속해서 작성하면 가로 배열\n",
    "    - 공간값이 적용됨"
   ]
  },
  {
   "cell_type": "markdown",
   "metadata": {},
   "source": [
    "### CSS 선택자\n",
    "- 전체 선택자 : *\n",
    "- 태그 선택자 : 태그\n",
    "- ID 선택자 : ID\n",
    "- 클래스 선택자 : .클래스\n",
    "- 속성 선택자 : 선택자[속성=값]\n",
    "- 자식 선택자"
   ]
  }
 ],
 "metadata": {
  "kernelspec": {
   "display_name": "Python 3",
   "language": "python",
   "name": "python3"
  },
  "language_info": {
   "name": "python",
   "version": "3.12.2"
  }
 },
 "nbformat": 4,
 "nbformat_minor": 2
}
